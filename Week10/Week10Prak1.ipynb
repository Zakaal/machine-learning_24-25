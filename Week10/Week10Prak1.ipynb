{
  "cells": [
    {
      "cell_type": "markdown",
      "metadata": {
        "id": "view-in-github",
        "colab_type": "text"
      },
      "source": [
        "<a href=\"https://colab.research.google.com/github/Zakaal/machine-learning_24-25/blob/main/Week10/Week10Prak1.ipynb\" target=\"_parent\"><img src=\"https://colab.research.google.com/assets/colab-badge.svg\" alt=\"Open In Colab\"/></a>"
      ]
    },
    {
      "cell_type": "markdown",
      "metadata": {
        "id": "nYjuwamo-BM4"
      },
      "source": [
        "# **JOBSHEET 11**\n",
        "\n",
        "## **Klasifikasi 🐱 dan 🐶**"
      ]
    },
    {
      "cell_type": "markdown",
      "metadata": {
        "id": "KZ6stels-FvN"
      },
      "source": [
        "---\n",
        "\n",
        "**Nama : Mochammad Zakaro Al fajri**\n",
        "\n",
        "**Kelas : TI - 3F**\n",
        "\n",
        "**NIM : 2241720175**\n",
        "\n",
        "**No.absen : 14**\n",
        "\n",
        "---"
      ]
    },
    {
      "cell_type": "markdown",
      "metadata": {
        "id": "6kMJjhGzAHGI"
      },
      "source": [
        "**Langkah 1 - Import Library**"
      ]
    },
    {
      "cell_type": "code",
      "execution_count": 1,
      "metadata": {
        "id": "cHR5cSmH94gy"
      },
      "outputs": [],
      "source": [
        "import tensorflow as tf\n",
        "from tensorflow.keras.preprocessing.image import ImageDataGenerator"
      ]
    },
    {
      "cell_type": "markdown",
      "metadata": {
        "id": "naFpXUrqAJbh"
      },
      "source": [
        "**Langkah 2 - Pra Pengolahan Data**"
      ]
    },
    {
      "cell_type": "markdown",
      "metadata": {
        "id": "NzXsDj3JAK7W"
      },
      "source": [
        "Langkah 2.1. Pra Pengolahan Data Training"
      ]
    },
    {
      "cell_type": "code",
      "execution_count": 2,
      "metadata": {
        "colab": {
          "base_uri": "https://localhost:8080/"
        },
        "id": "74UffkRm-Yy6",
        "outputId": "97c14b96-5166-4a58-eae2-c640d84f78ed"
      },
      "outputs": [
        {
          "output_type": "stream",
          "name": "stdout",
          "text": [
            "Found 8000 images belonging to 2 classes.\n"
          ]
        }
      ],
      "source": [
        "train_datagen = ImageDataGenerator(rescale = 1./255,\n",
        "                                   shear_range = 0.2,\n",
        "                                   zoom_range = 0.2,\n",
        "                                   horizontal_flip = True)\n",
        "training_set = train_datagen.flow_from_directory('/content/drive/MyDrive/machine-leaning/pertemuan-11/dataset/dataset/training_set',\n",
        "                                                 target_size = (64, 64),\n",
        "                                                 batch_size = 32,\n",
        "                                                 class_mode = 'binary')"
      ]
    },
    {
      "cell_type": "markdown",
      "metadata": {
        "id": "WuHPsU1mAN-2"
      },
      "source": [
        "Langkah 2.2. Pra Pengolahan Data Testing"
      ]
    },
    {
      "cell_type": "code",
      "execution_count": 3,
      "metadata": {
        "colab": {
          "base_uri": "https://localhost:8080/"
        },
        "id": "_N-vr-e5-cwg",
        "outputId": "0fc887b1-bdb2-44f5-b880-f94f25f0801c"
      },
      "outputs": [
        {
          "output_type": "stream",
          "name": "stdout",
          "text": [
            "Found 2000 images belonging to 2 classes.\n"
          ]
        }
      ],
      "source": [
        "test_datagen = ImageDataGenerator(rescale = 1./255)\n",
        "test_set = test_datagen.flow_from_directory('/content/drive/MyDrive/machine-leaning/pertemuan-11/dataset/dataset/test_set',\n",
        "                                            target_size = (64, 64),\n",
        "                                            batch_size = 32,\n",
        "                                            class_mode = 'binary')"
      ]
    },
    {
      "cell_type": "markdown",
      "metadata": {
        "id": "mSZeDyRiAOkt"
      },
      "source": [
        "**Langkah 3 - Pembuatan Model CNN**"
      ]
    },
    {
      "cell_type": "markdown",
      "metadata": {
        "id": "xaoLxW0kAyCg"
      },
      "source": [
        "Langkah 3.1. - Inisiasi Model CNN"
      ]
    },
    {
      "cell_type": "code",
      "execution_count": 4,
      "metadata": {
        "id": "LooA92E6-eIQ"
      },
      "outputs": [],
      "source": [
        "cnn = tf.keras.models.Sequential()"
      ]
    },
    {
      "cell_type": "markdown",
      "metadata": {
        "id": "afHIzncWA0wT"
      },
      "source": [
        "Langkah 3.2. - Pembuatan Layer Konvolusi 1"
      ]
    },
    {
      "cell_type": "code",
      "execution_count": 5,
      "metadata": {
        "colab": {
          "base_uri": "https://localhost:8080/"
        },
        "id": "esMZZGm7-fBT",
        "outputId": "648f210f-ae33-4dac-a25c-c334beea0a66"
      },
      "outputs": [
        {
          "output_type": "stream",
          "name": "stderr",
          "text": [
            "/usr/local/lib/python3.10/dist-packages/keras/src/layers/core/input_layer.py:26: UserWarning: Argument `input_shape` is deprecated. Use `shape` instead.\n",
            "  warnings.warn(\n"
          ]
        }
      ],
      "source": [
        "cnn.add(tf.keras.layers.InputLayer(input_shape=(64, 64, 3)))\n",
        "cnn.add(tf.keras.layers.Conv2D(filters=32, kernel_size=3, activation='relu'))"
      ]
    },
    {
      "cell_type": "markdown",
      "metadata": {
        "id": "yYXq2eAoASY8"
      },
      "source": [
        "Langkah 3.3 - Pembuatan Layer Pooling 1"
      ]
    },
    {
      "cell_type": "code",
      "execution_count": 6,
      "metadata": {
        "id": "XsdbaBcZ-iOz"
      },
      "outputs": [],
      "source": [
        "cnn.add(tf.keras.layers.MaxPool2D(pool_size=2, strides=2))"
      ]
    },
    {
      "cell_type": "markdown",
      "metadata": {
        "id": "QYvE7RyGAVpw"
      },
      "source": [
        "Langkah 3.4 - Pembuatan Layer Konvolusi 2 dan Pooling 2"
      ]
    },
    {
      "cell_type": "code",
      "execution_count": 7,
      "metadata": {
        "id": "b4_YCKa_-jgn"
      },
      "outputs": [],
      "source": [
        "cnn.add(tf.keras.layers.Conv2D(filters=32, kernel_size=3, activation='relu'))\n",
        "cnn.add(tf.keras.layers.MaxPool2D(pool_size=2, strides=2))"
      ]
    },
    {
      "cell_type": "markdown",
      "metadata": {
        "id": "V6TyDULXAejO"
      },
      "source": [
        "Langkah 3.5 - Flattening"
      ]
    },
    {
      "cell_type": "code",
      "execution_count": 8,
      "metadata": {
        "id": "WmiFEkiU-kim"
      },
      "outputs": [],
      "source": [
        "cnn.add(tf.keras.layers.Flatten())"
      ]
    },
    {
      "cell_type": "markdown",
      "metadata": {
        "id": "MWwVGXXtAfMq"
      },
      "source": [
        "Langkah 3.6 - Fully Connected Layer 1 (Input)"
      ]
    },
    {
      "cell_type": "code",
      "execution_count": 9,
      "metadata": {
        "id": "EJav_t1w-mJH"
      },
      "outputs": [],
      "source": [
        "cnn.add(tf.keras.layers.Dense(units=128, activation='relu'))"
      ]
    },
    {
      "cell_type": "markdown",
      "metadata": {
        "id": "1AbQHIpiBEOJ"
      },
      "source": [
        "Langkah 3.7 - Fully Connected Layer 2 (Output)"
      ]
    },
    {
      "cell_type": "code",
      "execution_count": 10,
      "metadata": {
        "id": "6FPnNkXR-pYX"
      },
      "outputs": [],
      "source": [
        "cnn.add(tf.keras.layers.Dense(units=1, activation='sigmoid'))"
      ]
    },
    {
      "cell_type": "markdown",
      "metadata": {
        "id": "-tZtt-2wBF3s"
      },
      "source": [
        "Langkah 3.8 - Compile Model CNN"
      ]
    },
    {
      "cell_type": "code",
      "execution_count": 11,
      "metadata": {
        "id": "EFuDDtiY-qYw"
      },
      "outputs": [],
      "source": [
        "cnn.compile(optimizer = 'adam', loss = 'binary_crossentropy', metrics = ['accuracy'])"
      ]
    },
    {
      "cell_type": "markdown",
      "metadata": {
        "id": "ttdmr17iBI-x"
      },
      "source": [
        "**Langkah 4 - Fit CNN**"
      ]
    },
    {
      "cell_type": "code",
      "execution_count": 12,
      "metadata": {
        "colab": {
          "base_uri": "https://localhost:8080/"
        },
        "id": "Obo_Uemb-rt0",
        "outputId": "c20825cc-5898-4bdc-8407-9bae27cb20ea"
      },
      "outputs": [
        {
          "output_type": "stream",
          "name": "stdout",
          "text": [
            "Epoch 1/25\n"
          ]
        },
        {
          "output_type": "stream",
          "name": "stderr",
          "text": [
            "/usr/local/lib/python3.10/dist-packages/keras/src/trainers/data_adapters/py_dataset_adapter.py:122: UserWarning: Your `PyDataset` class should call `super().__init__(**kwargs)` in its constructor. `**kwargs` can include `workers`, `use_multiprocessing`, `max_queue_size`. Do not pass these arguments to `fit()`, as they will be ignored.\n",
            "  self._warn_if_super_not_called()\n"
          ]
        },
        {
          "output_type": "stream",
          "name": "stdout",
          "text": [
            "\u001b[1m250/250\u001b[0m \u001b[32m━━━━━━━━━━━━━━━━━━━━\u001b[0m\u001b[37m\u001b[0m \u001b[1m1242s\u001b[0m 5s/step - accuracy: 0.5395 - loss: 0.6921 - val_accuracy: 0.6095 - val_loss: 0.6562\n",
            "Epoch 2/25\n",
            "\u001b[1m250/250\u001b[0m \u001b[32m━━━━━━━━━━━━━━━━━━━━\u001b[0m\u001b[37m\u001b[0m \u001b[1m106s\u001b[0m 417ms/step - accuracy: 0.6528 - loss: 0.6302 - val_accuracy: 0.7050 - val_loss: 0.5556\n",
            "Epoch 3/25\n",
            "\u001b[1m250/250\u001b[0m \u001b[32m━━━━━━━━━━━━━━━━━━━━\u001b[0m\u001b[37m\u001b[0m \u001b[1m106s\u001b[0m 419ms/step - accuracy: 0.6934 - loss: 0.5747 - val_accuracy: 0.7215 - val_loss: 0.5453\n",
            "Epoch 4/25\n",
            "\u001b[1m250/250\u001b[0m \u001b[32m━━━━━━━━━━━━━━━━━━━━\u001b[0m\u001b[37m\u001b[0m \u001b[1m141s\u001b[0m 414ms/step - accuracy: 0.7215 - loss: 0.5441 - val_accuracy: 0.7480 - val_loss: 0.5185\n",
            "Epoch 5/25\n",
            "\u001b[1m250/250\u001b[0m \u001b[32m━━━━━━━━━━━━━━━━━━━━\u001b[0m\u001b[37m\u001b[0m \u001b[1m141s\u001b[0m 410ms/step - accuracy: 0.7293 - loss: 0.5240 - val_accuracy: 0.7475 - val_loss: 0.5087\n",
            "Epoch 6/25\n",
            "\u001b[1m250/250\u001b[0m \u001b[32m━━━━━━━━━━━━━━━━━━━━\u001b[0m\u001b[37m\u001b[0m \u001b[1m105s\u001b[0m 411ms/step - accuracy: 0.7543 - loss: 0.4965 - val_accuracy: 0.7630 - val_loss: 0.4869\n",
            "Epoch 7/25\n",
            "\u001b[1m250/250\u001b[0m \u001b[32m━━━━━━━━━━━━━━━━━━━━\u001b[0m\u001b[37m\u001b[0m \u001b[1m141s\u001b[0m 410ms/step - accuracy: 0.7615 - loss: 0.4753 - val_accuracy: 0.7815 - val_loss: 0.4655\n",
            "Epoch 8/25\n",
            "\u001b[1m250/250\u001b[0m \u001b[32m━━━━━━━━━━━━━━━━━━━━\u001b[0m\u001b[37m\u001b[0m \u001b[1m112s\u001b[0m 441ms/step - accuracy: 0.7804 - loss: 0.4612 - val_accuracy: 0.7540 - val_loss: 0.5050\n",
            "Epoch 9/25\n",
            "\u001b[1m250/250\u001b[0m \u001b[32m━━━━━━━━━━━━━━━━━━━━\u001b[0m\u001b[37m\u001b[0m \u001b[1m104s\u001b[0m 409ms/step - accuracy: 0.7880 - loss: 0.4490 - val_accuracy: 0.7830 - val_loss: 0.4614\n",
            "Epoch 10/25\n",
            "\u001b[1m250/250\u001b[0m \u001b[32m━━━━━━━━━━━━━━━━━━━━\u001b[0m\u001b[37m\u001b[0m \u001b[1m111s\u001b[0m 438ms/step - accuracy: 0.8044 - loss: 0.4241 - val_accuracy: 0.7945 - val_loss: 0.4662\n",
            "Epoch 11/25\n",
            "\u001b[1m250/250\u001b[0m \u001b[32m━━━━━━━━━━━━━━━━━━━━\u001b[0m\u001b[37m\u001b[0m \u001b[1m104s\u001b[0m 410ms/step - accuracy: 0.8018 - loss: 0.4246 - val_accuracy: 0.7925 - val_loss: 0.4523\n",
            "Epoch 12/25\n",
            "\u001b[1m250/250\u001b[0m \u001b[32m━━━━━━━━━━━━━━━━━━━━\u001b[0m\u001b[37m\u001b[0m \u001b[1m149s\u001b[0m 439ms/step - accuracy: 0.8119 - loss: 0.4072 - val_accuracy: 0.8070 - val_loss: 0.4384\n",
            "Epoch 13/25\n",
            "\u001b[1m250/250\u001b[0m \u001b[32m━━━━━━━━━━━━━━━━━━━━\u001b[0m\u001b[37m\u001b[0m \u001b[1m133s\u001b[0m 403ms/step - accuracy: 0.8211 - loss: 0.3881 - val_accuracy: 0.7780 - val_loss: 0.5062\n",
            "Epoch 14/25\n",
            "\u001b[1m250/250\u001b[0m \u001b[32m━━━━━━━━━━━━━━━━━━━━\u001b[0m\u001b[37m\u001b[0m \u001b[1m104s\u001b[0m 409ms/step - accuracy: 0.8136 - loss: 0.3981 - val_accuracy: 0.8080 - val_loss: 0.4320\n",
            "Epoch 15/25\n",
            "\u001b[1m250/250\u001b[0m \u001b[32m━━━━━━━━━━━━━━━━━━━━\u001b[0m\u001b[37m\u001b[0m \u001b[1m105s\u001b[0m 412ms/step - accuracy: 0.8258 - loss: 0.3766 - val_accuracy: 0.8095 - val_loss: 0.4355\n",
            "Epoch 16/25\n",
            "\u001b[1m250/250\u001b[0m \u001b[32m━━━━━━━━━━━━━━━━━━━━\u001b[0m\u001b[37m\u001b[0m \u001b[1m138s\u001b[0m 398ms/step - accuracy: 0.8419 - loss: 0.3579 - val_accuracy: 0.8085 - val_loss: 0.4399\n",
            "Epoch 17/25\n",
            "\u001b[1m250/250\u001b[0m \u001b[32m━━━━━━━━━━━━━━━━━━━━\u001b[0m\u001b[37m\u001b[0m \u001b[1m110s\u001b[0m 432ms/step - accuracy: 0.8349 - loss: 0.3545 - val_accuracy: 0.8135 - val_loss: 0.4204\n",
            "Epoch 18/25\n",
            "\u001b[1m250/250\u001b[0m \u001b[32m━━━━━━━━━━━━━━━━━━━━\u001b[0m\u001b[37m\u001b[0m \u001b[1m137s\u001b[0m 416ms/step - accuracy: 0.8439 - loss: 0.3547 - val_accuracy: 0.8165 - val_loss: 0.4274\n",
            "Epoch 19/25\n",
            "\u001b[1m250/250\u001b[0m \u001b[32m━━━━━━━━━━━━━━━━━━━━\u001b[0m\u001b[37m\u001b[0m \u001b[1m140s\u001b[0m 407ms/step - accuracy: 0.8554 - loss: 0.3211 - val_accuracy: 0.7885 - val_loss: 0.4881\n",
            "Epoch 20/25\n",
            "\u001b[1m250/250\u001b[0m \u001b[32m━━━━━━━━━━━━━━━━━━━━\u001b[0m\u001b[37m\u001b[0m \u001b[1m141s\u001b[0m 402ms/step - accuracy: 0.8586 - loss: 0.3229 - val_accuracy: 0.8155 - val_loss: 0.4338\n",
            "Epoch 21/25\n",
            "\u001b[1m250/250\u001b[0m \u001b[32m━━━━━━━━━━━━━━━━━━━━\u001b[0m\u001b[37m\u001b[0m \u001b[1m104s\u001b[0m 409ms/step - accuracy: 0.8694 - loss: 0.3128 - val_accuracy: 0.8075 - val_loss: 0.4433\n",
            "Epoch 22/25\n",
            "\u001b[1m250/250\u001b[0m \u001b[32m━━━━━━━━━━━━━━━━━━━━\u001b[0m\u001b[37m\u001b[0m \u001b[1m104s\u001b[0m 411ms/step - accuracy: 0.8688 - loss: 0.3005 - val_accuracy: 0.7945 - val_loss: 0.4988\n",
            "Epoch 23/25\n",
            "\u001b[1m250/250\u001b[0m \u001b[32m━━━━━━━━━━━━━━━━━━━━\u001b[0m\u001b[37m\u001b[0m \u001b[1m140s\u001b[0m 401ms/step - accuracy: 0.8677 - loss: 0.3028 - val_accuracy: 0.8070 - val_loss: 0.4614\n",
            "Epoch 24/25\n",
            "\u001b[1m250/250\u001b[0m \u001b[32m━━━━━━━━━━━━━━━━━━━━\u001b[0m\u001b[37m\u001b[0m \u001b[1m104s\u001b[0m 408ms/step - accuracy: 0.8736 - loss: 0.2971 - val_accuracy: 0.8080 - val_loss: 0.4577\n",
            "Epoch 25/25\n",
            "\u001b[1m250/250\u001b[0m \u001b[32m━━━━━━━━━━━━━━━━━━━━\u001b[0m\u001b[37m\u001b[0m \u001b[1m142s\u001b[0m 410ms/step - accuracy: 0.8700 - loss: 0.2939 - val_accuracy: 0.8130 - val_loss: 0.4370\n"
          ]
        },
        {
          "output_type": "execute_result",
          "data": {
            "text/plain": [
              "<keras.src.callbacks.history.History at 0x7b66572601c0>"
            ]
          },
          "metadata": {},
          "execution_count": 12
        }
      ],
      "source": [
        "cnn.fit(x = training_set, validation_data = test_set, epochs = 25)"
      ]
    },
    {
      "cell_type": "markdown",
      "metadata": {
        "id": "8mGwiSIsBMNL"
      },
      "source": [
        "**Langkah 5 - Prediksi dengan 1 Citra**"
      ]
    },
    {
      "cell_type": "code",
      "execution_count": 16,
      "metadata": {
        "id": "V5rVgiPf-s3p",
        "colab": {
          "base_uri": "https://localhost:8080/"
        },
        "outputId": "6c3665b5-a1e0-4804-cb7c-4fd38015ec87"
      },
      "outputs": [
        {
          "output_type": "stream",
          "name": "stdout",
          "text": [
            "\u001b[1m1/1\u001b[0m \u001b[32m━━━━━━━━━━━━━━━━━━━━\u001b[0m\u001b[37m\u001b[0m \u001b[1m0s\u001b[0m 25ms/step\n",
            "dog\n"
          ]
        }
      ],
      "source": [
        "import numpy as np\n",
        "from keras.preprocessing import image\n",
        "test_image = image.load_img('/content/drive/MyDrive/machine-leaning/pertemuan-11/dataset/dataset/single_prediction/cat_or_dog_1.jpg', target_size = (64, 64))\n",
        "test_image = image.img_to_array(test_image)\n",
        "test_image = np.expand_dims(test_image, axis = 0)\n",
        "result = cnn.predict(test_image)\n",
        "training_set.class_indices\n",
        "if result[0][0] == 1:\n",
        "  prediction = 'dog'\n",
        "else:\n",
        "  prediction = 'cat'\n",
        "print(prediction)"
      ]
    }
  ],
  "metadata": {
    "colab": {
      "provenance": [],
      "mount_file_id": "1ucqdwG3i9842s0kAMrJid7oc6WbjWdBJ",
      "authorship_tag": "ABX9TyMPIckCYmR00ipDR/jYtV6E",
      "include_colab_link": true
    },
    "kernelspec": {
      "display_name": "Python 3",
      "name": "python3"
    },
    "language_info": {
      "name": "python"
    }
  },
  "nbformat": 4,
  "nbformat_minor": 0
}